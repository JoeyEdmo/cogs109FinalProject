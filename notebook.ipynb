{
 "cells": [
  {
   "cell_type": "code",
   "execution_count": 2,
   "metadata": {},
   "outputs": [],
   "source": [
    "import pandas as pd\n",
    "import numpy as np\n",
    "import matplotlib.pyplot as plt\n",
    "import jsonOps\n",
    "import importlib\n",
    "import handleData as hd\n",
    "import matplotlib.pyplot as plt\n",
    "import seaborn as sns\n",
    "import math\n",
    "from statsmodels.formula.api import logit\n",
    "from sklearn.metrics import confusion_matrix\n",
    "from sklearn.model_selection import KFold\n"
   ]
  },
  {
   "cell_type": "code",
   "execution_count": 3,
   "metadata": {},
   "outputs": [],
   "source": [
    "importlib.reload(jsonOps)\n",
    "\n",
    "'''\n",
    "operations to update all data:\n",
    "step 1: run getData as python script. Will load every event from 2000-2022 from alldata into processedData. Long time.\n",
    "step 2: run jsonOps.writeTeams(). Will write all specified data from year. currently default is 2 years, can set further back if want. Takes a while.\n",
    "step 3: when you want data run loadTeams(). Pulls all data from jsons.\n",
    "\n",
    "'''\n",
    "\n",
    "#jsonOps.writeTeams(lyear=2018) #writes every game data for last 4 years, latest run was 4 years\n",
    " \n",
    "#optional cell to flush grabbed data into jsons. Should only run if you know youve changed the data. (IE run getData with changed args)\n",
    "#oftentimes when making edits to subfiles need to RESTART KERNEL MULTIPLE TIMES FOR CHANGES TO GO THROUGH!!!!!!!! "
   ]
  },
  {
   "cell_type": "code",
   "execution_count": 5,
   "metadata": {},
   "outputs": [
    {
     "name": "stdout",
     "output_type": "stream",
     "text": [
      "<class 'dict'>\n"
     ]
    }
   ],
   "source": [
    "importlib.reload(jsonOps)\n",
    "allGamesDict = jsonOps.loadTeams()\n",
    "keys = allGamesDict.keys()"
   ]
  },
  {
   "cell_type": "code",
   "execution_count": 6,
   "metadata": {},
   "outputs": [
    {
     "name": "stdout",
     "output_type": "stream",
     "text": [
      "done loading data now writing deltas\n"
     ]
    }
   ],
   "source": [
    "\n",
    "# count = 0\n",
    "# alldelts = []\n",
    "# size = len(allGamesDict)\n",
    "# count = 0\n",
    "# amountWanted = 1.1\n",
    "# for key in keys:\n",
    "#         ourGameID = key\n",
    "#         theirGameID = allGamesDict[key][0][1][:3] + key[3:]\n",
    "#         delts = hd.getGameDeltas(ourGameID, theirGameID, allGamesDict)\n",
    "#         count += 1\n",
    "#         if(not count % 10):\n",
    "#             count = count\n",
    "#         if(count/size > amountWanted):\n",
    "#             break\n",
    "#         if(delts == -1):\n",
    "#             continue\n",
    "#         alldelts.append(delts)\n",
    "        \n",
    "#         #in the future should only load from Jsondeltas instead of running whole bs\n",
    "# print('done loading data now writing deltas')\n",
    "# jsonOps.writeDeltas(alldelts)\n",
    "\n",
    "alldelts = jsonOps.readDeltas()\n"
   ]
  },
  {
   "cell_type": "code",
   "execution_count": 7,
   "metadata": {},
   "outputs": [
    {
     "name": "stdout",
     "output_type": "stream",
     "text": [
      "         gameid       avg       obp       slg runs runsopposing win\n",
      "0  SDN202205010  0.289474  0.314474  0.315789    5            2   1\n",
      "1  SDN202204300  0.200000  0.276923  0.428571    6            6   0\n",
      "2  SDN202204290  0.218750  0.423295  0.437500    7            3   1\n",
      "3  SDN202204280  0.314286  0.469841  0.400000    7            5   1\n",
      "4  SDN202204270  0.250000  0.425000  0.531250    8            5   1\n"
     ]
    },
    {
     "data": {
      "text/html": [
       "<div>\n",
       "<style scoped>\n",
       "    .dataframe tbody tr th:only-of-type {\n",
       "        vertical-align: middle;\n",
       "    }\n",
       "\n",
       "    .dataframe tbody tr th {\n",
       "        vertical-align: top;\n",
       "    }\n",
       "\n",
       "    .dataframe thead th {\n",
       "        text-align: right;\n",
       "    }\n",
       "</style>\n",
       "<table border=\"1\" class=\"dataframe\">\n",
       "  <thead>\n",
       "    <tr style=\"text-align: right;\">\n",
       "      <th></th>\n",
       "      <th>delavg</th>\n",
       "      <th>delobp</th>\n",
       "      <th>delslg</th>\n",
       "      <th>delruns</th>\n",
       "      <th>delrunsopposing</th>\n",
       "      <th>delwins</th>\n",
       "      <th>win</th>\n",
       "    </tr>\n",
       "  </thead>\n",
       "  <tbody>\n",
       "    <tr>\n",
       "      <th>20235</th>\n",
       "      <td>0.009732</td>\n",
       "      <td>-0.004379</td>\n",
       "      <td>0.026753</td>\n",
       "      <td>0.774194</td>\n",
       "      <td>0.645161</td>\n",
       "      <td>0.032258</td>\n",
       "      <td>0</td>\n",
       "    </tr>\n",
       "    <tr>\n",
       "      <th>20236</th>\n",
       "      <td>0.000749</td>\n",
       "      <td>-0.014180</td>\n",
       "      <td>0.008194</td>\n",
       "      <td>0.387097</td>\n",
       "      <td>0.903226</td>\n",
       "      <td>0.000000</td>\n",
       "      <td>0</td>\n",
       "    </tr>\n",
       "    <tr>\n",
       "      <th>20237</th>\n",
       "      <td>-0.000809</td>\n",
       "      <td>-0.010467</td>\n",
       "      <td>0.013052</td>\n",
       "      <td>0.161290</td>\n",
       "      <td>-2.322581</td>\n",
       "      <td>0.387097</td>\n",
       "      <td>0</td>\n",
       "    </tr>\n",
       "    <tr>\n",
       "      <th>20238</th>\n",
       "      <td>0.003746</td>\n",
       "      <td>-0.012016</td>\n",
       "      <td>0.007750</td>\n",
       "      <td>0.193548</td>\n",
       "      <td>-2.096774</td>\n",
       "      <td>0.354839</td>\n",
       "      <td>0</td>\n",
       "    </tr>\n",
       "    <tr>\n",
       "      <th>20239</th>\n",
       "      <td>0.000872</td>\n",
       "      <td>-0.017693</td>\n",
       "      <td>0.006238</td>\n",
       "      <td>0.096774</td>\n",
       "      <td>-2.064516</td>\n",
       "      <td>0.322581</td>\n",
       "      <td>0</td>\n",
       "    </tr>\n",
       "  </tbody>\n",
       "</table>\n",
       "</div>"
      ],
      "text/plain": [
       "         delavg    delobp    delslg   delruns  delrunsopposing   delwins  win\n",
       "20235  0.009732 -0.004379  0.026753  0.774194         0.645161  0.032258    0\n",
       "20236  0.000749 -0.014180  0.008194  0.387097         0.903226  0.000000    0\n",
       "20237 -0.000809 -0.010467  0.013052  0.161290        -2.322581  0.387097    0\n",
       "20238  0.003746 -0.012016  0.007750  0.193548        -2.096774  0.354839    0\n",
       "20239  0.000872 -0.017693  0.006238  0.096774        -2.064516  0.322581    0"
      ]
     },
     "execution_count": 7,
     "metadata": {},
     "output_type": "execute_result"
    }
   ],
   "source": [
    "df = pd.DataFrame(alldelts, columns=['delavg', 'delobp', 'delslg', 'delruns', 'delrunsopposing', 'delwins', 'win'])\n",
    "df.tail()\n",
    "vals = hd.getTeam30DayNums('SDN202205020', allGamesDict)\n",
    "val2 = hd.getTeam30DayNums('PIT202205020', allGamesDict)\n",
    "sd = allGamesDict['SDN202205010']\n",
    "pit = allGamesDict['PIT202205010']\n",
    "print(vals.head())\n",
    "df.tail()\n",
    "#print(sd[0], pit[0])"
   ]
  },
  {
   "cell_type": "code",
   "execution_count": null,
   "metadata": {},
   "outputs": [],
   "source": [
    "# allGamesDict = jsonOps.loadTeams()\n",
    "# alldelts = jsonOps.readDeltas()\n",
    "# df = pd.DataFrame(alldelts, columns=['delavg', 'delobp', 'delslg', 'delruns', 'delrunsopposing', 'delwins', 'win'])\n"
   ]
  },
  {
   "cell_type": "code",
   "execution_count": 8,
   "metadata": {},
   "outputs": [
    {
     "name": "stdout",
     "output_type": "stream",
     "text": [
      "Optimization terminated successfully.\n",
      "         Current function value: 0.675987\n",
      "         Iterations 4\n"
     ]
    },
    {
     "data": {
      "text/html": [
       "<table class=\"simpletable\">\n",
       "<caption>Logit Regression Results</caption>\n",
       "<tr>\n",
       "  <th>Dep. Variable:</th>          <td>win</td>       <th>  No. Observations:  </th>   <td> 20240</td>  \n",
       "</tr>\n",
       "<tr>\n",
       "  <th>Model:</th>                 <td>Logit</td>      <th>  Df Residuals:      </th>   <td> 20233</td>  \n",
       "</tr>\n",
       "<tr>\n",
       "  <th>Method:</th>                 <td>MLE</td>       <th>  Df Model:          </th>   <td>     6</td>  \n",
       "</tr>\n",
       "<tr>\n",
       "  <th>Date:</th>            <td>Sun, 11 Jun 2023</td> <th>  Pseudo R-squ.:     </th>   <td>0.02087</td> \n",
       "</tr>\n",
       "<tr>\n",
       "  <th>Time:</th>                <td>22:01:58</td>     <th>  Log-Likelihood:    </th>  <td> -13682.</td> \n",
       "</tr>\n",
       "<tr>\n",
       "  <th>converged:</th>             <td>True</td>       <th>  LL-Null:           </th>  <td> -13974.</td> \n",
       "</tr>\n",
       "<tr>\n",
       "  <th>Covariance Type:</th>     <td>nonrobust</td>    <th>  LLR p-value:       </th> <td>9.038e-123</td>\n",
       "</tr>\n",
       "</table>\n",
       "<table class=\"simpletable\">\n",
       "<tr>\n",
       "         <td></td>            <th>coef</th>     <th>std err</th>      <th>z</th>      <th>P>|z|</th>  <th>[0.025</th>    <th>0.975]</th>  \n",
       "</tr>\n",
       "<tr>\n",
       "  <th>Intercept</th>       <td>   -0.1529</td> <td>    0.014</td> <td>  -10.685</td> <td> 0.000</td> <td>   -0.181</td> <td>   -0.125</td>\n",
       "</tr>\n",
       "<tr>\n",
       "  <th>delavg</th>          <td>   -6.5123</td> <td>    1.179</td> <td>   -5.522</td> <td> 0.000</td> <td>   -8.824</td> <td>   -4.201</td>\n",
       "</tr>\n",
       "<tr>\n",
       "  <th>delobp</th>          <td>    5.2647</td> <td>    0.969</td> <td>    5.431</td> <td> 0.000</td> <td>    3.365</td> <td>    7.165</td>\n",
       "</tr>\n",
       "<tr>\n",
       "  <th>delslg</th>          <td>    3.1575</td> <td>    0.621</td> <td>    5.088</td> <td> 0.000</td> <td>    1.941</td> <td>    4.374</td>\n",
       "</tr>\n",
       "<tr>\n",
       "  <th>delruns</th>         <td>   -0.0244</td> <td>    0.036</td> <td>   -0.686</td> <td> 0.493</td> <td>   -0.094</td> <td>    0.045</td>\n",
       "</tr>\n",
       "<tr>\n",
       "  <th>delrunsopposing</th> <td>   -0.1726</td> <td>    0.021</td> <td>   -8.115</td> <td> 0.000</td> <td>   -0.214</td> <td>   -0.131</td>\n",
       "</tr>\n",
       "<tr>\n",
       "  <th>delwins</th>         <td>    0.2359</td> <td>    0.173</td> <td>    1.363</td> <td> 0.173</td> <td>   -0.103</td> <td>    0.575</td>\n",
       "</tr>\n",
       "</table>"
      ],
      "text/latex": [
       "\\begin{center}\n",
       "\\begin{tabular}{lclc}\n",
       "\\toprule\n",
       "\\textbf{Dep. Variable:}   &       win        & \\textbf{  No. Observations:  } &    20240    \\\\\n",
       "\\textbf{Model:}           &      Logit       & \\textbf{  Df Residuals:      } &    20233    \\\\\n",
       "\\textbf{Method:}          &       MLE        & \\textbf{  Df Model:          } &        6    \\\\\n",
       "\\textbf{Date:}            & Sun, 11 Jun 2023 & \\textbf{  Pseudo R-squ.:     } &  0.02087    \\\\\n",
       "\\textbf{Time:}            &     22:01:58     & \\textbf{  Log-Likelihood:    } &   -13682.   \\\\\n",
       "\\textbf{converged:}       &       True       & \\textbf{  LL-Null:           } &   -13974.   \\\\\n",
       "\\textbf{Covariance Type:} &    nonrobust     & \\textbf{  LLR p-value:       } & 9.038e-123  \\\\\n",
       "\\bottomrule\n",
       "\\end{tabular}\n",
       "\\begin{tabular}{lcccccc}\n",
       "                         & \\textbf{coef} & \\textbf{std err} & \\textbf{z} & \\textbf{P$> |$z$|$} & \\textbf{[0.025} & \\textbf{0.975]}  \\\\\n",
       "\\midrule\n",
       "\\textbf{Intercept}       &      -0.1529  &        0.014     &   -10.685  &         0.000        &       -0.181    &       -0.125     \\\\\n",
       "\\textbf{delavg}          &      -6.5123  &        1.179     &    -5.522  &         0.000        &       -8.824    &       -4.201     \\\\\n",
       "\\textbf{delobp}          &       5.2647  &        0.969     &     5.431  &         0.000        &        3.365    &        7.165     \\\\\n",
       "\\textbf{delslg}          &       3.1575  &        0.621     &     5.088  &         0.000        &        1.941    &        4.374     \\\\\n",
       "\\textbf{delruns}         &      -0.0244  &        0.036     &    -0.686  &         0.493        &       -0.094    &        0.045     \\\\\n",
       "\\textbf{delrunsopposing} &      -0.1726  &        0.021     &    -8.115  &         0.000        &       -0.214    &       -0.131     \\\\\n",
       "\\textbf{delwins}         &       0.2359  &        0.173     &     1.363  &         0.173        &       -0.103    &        0.575     \\\\\n",
       "\\bottomrule\n",
       "\\end{tabular}\n",
       "%\\caption{Logit Regression Results}\n",
       "\\end{center}"
      ],
      "text/plain": [
       "<class 'statsmodels.iolib.summary.Summary'>\n",
       "\"\"\"\n",
       "                           Logit Regression Results                           \n",
       "==============================================================================\n",
       "Dep. Variable:                    win   No. Observations:                20240\n",
       "Model:                          Logit   Df Residuals:                    20233\n",
       "Method:                           MLE   Df Model:                            6\n",
       "Date:                Sun, 11 Jun 2023   Pseudo R-squ.:                 0.02087\n",
       "Time:                        22:01:58   Log-Likelihood:                -13682.\n",
       "converged:                       True   LL-Null:                       -13974.\n",
       "Covariance Type:            nonrobust   LLR p-value:                9.038e-123\n",
       "===================================================================================\n",
       "                      coef    std err          z      P>|z|      [0.025      0.975]\n",
       "-----------------------------------------------------------------------------------\n",
       "Intercept          -0.1529      0.014    -10.685      0.000      -0.181      -0.125\n",
       "delavg             -6.5123      1.179     -5.522      0.000      -8.824      -4.201\n",
       "delobp              5.2647      0.969      5.431      0.000       3.365       7.165\n",
       "delslg              3.1575      0.621      5.088      0.000       1.941       4.374\n",
       "delruns            -0.0244      0.036     -0.686      0.493      -0.094       0.045\n",
       "delrunsopposing    -0.1726      0.021     -8.115      0.000      -0.214      -0.131\n",
       "delwins             0.2359      0.173      1.363      0.173      -0.103       0.575\n",
       "===================================================================================\n",
       "\"\"\""
      ]
     },
     "execution_count": 8,
     "metadata": {},
     "output_type": "execute_result"
    }
   ],
   "source": [
    "mdl = logit(formula = 'win ~ delavg + delobp + delslg + delruns + delrunsopposing + delwins', data=df).fit()\n",
    "mdl.summary()"
   ]
  },
  {
   "cell_type": "code",
   "execution_count": 9,
   "metadata": {},
   "outputs": [
    {
     "name": "stdout",
     "output_type": "stream",
     "text": [
      "sensitivity: percentage of games classified correctly as winning is 0.4050160085378869\n",
      "Specificity: percentage of games classified correctly as losing is 0.7238270469181233\n",
      "fraction total correctly classified 0.5762351778656126 \n",
      "\n"
     ]
    },
    {
     "data": {
      "text/html": [
       "<div>\n",
       "<style scoped>\n",
       "    .dataframe tbody tr th:only-of-type {\n",
       "        vertical-align: middle;\n",
       "    }\n",
       "\n",
       "    .dataframe tbody tr th {\n",
       "        vertical-align: top;\n",
       "    }\n",
       "\n",
       "    .dataframe thead th {\n",
       "        text-align: right;\n",
       "    }\n",
       "</style>\n",
       "<table border=\"1\" class=\"dataframe\">\n",
       "  <thead>\n",
       "    <tr style=\"text-align: right;\">\n",
       "      <th>col_0</th>\n",
       "      <th>0</th>\n",
       "      <th>1</th>\n",
       "    </tr>\n",
       "    <tr>\n",
       "      <th>win</th>\n",
       "      <th></th>\n",
       "      <th></th>\n",
       "    </tr>\n",
       "  </thead>\n",
       "  <tbody>\n",
       "    <tr>\n",
       "      <th>0</th>\n",
       "      <td>7868</td>\n",
       "      <td>3002</td>\n",
       "    </tr>\n",
       "    <tr>\n",
       "      <th>1</th>\n",
       "      <td>5575</td>\n",
       "      <td>3795</td>\n",
       "    </tr>\n",
       "  </tbody>\n",
       "</table>\n",
       "</div>"
      ],
      "text/plain": [
       "col_0     0     1\n",
       "win              \n",
       "0      7868  3002\n",
       "1      5575  3795"
      ]
     },
     "execution_count": 9,
     "metadata": {},
     "output_type": "execute_result"
    }
   ],
   "source": [
    "pred = mdl.predict(df)>.5\n",
    "pred.astype(int)\n",
    "vals = pd.crosstab(df['win'], pred.astype(int))\n",
    "tn, fp, fn, tp = confusion_matrix(df['win'], pred).ravel() \n",
    "wrongMature = fn\n",
    "rightMature = tp\n",
    "wrongImmature = fp\n",
    "rightImmature = tn\n",
    "fracM = rightMature/(wrongMature + rightMature)\n",
    "fracI = rightImmature/(wrongImmature + rightImmature)\n",
    "print(\"sensitivity: percentage of games classified correctly as winning is \" + str(fracM))\n",
    "print(\"Specificity: percentage of games classified correctly as losing is \" + str(fracI))\n",
    "print(\"fraction total correctly classified\", \n",
    "      (rightMature + rightImmature)/(rightMature+ wrongMature+rightImmature+wrongImmature),'\\n')\n",
    "vals"
   ]
  },
  {
   "cell_type": "code",
   "execution_count": 10,
   "metadata": {},
   "outputs": [
    {
     "data": {
      "text/plain": [
       "<matplotlib.legend.Legend at 0x2ad8203d0d0>"
      ]
     },
     "execution_count": 10,
     "metadata": {},
     "output_type": "execute_result"
    },
    {
     "data": {
      "image/png": "[encoded data removed]",
      "text/plain": [
       "<Figure size 1200x400 with 3 Axes>"
      ]
     },
     "metadata": {},
     "output_type": "display_data"
    }
   ],
   "source": [
    "tvals = []\n",
    "n=100\n",
    "for i in range(0,n+1):\n",
    "    tvals.append(1/n*i)\n",
    "\n",
    "allfprs = []\n",
    "allpres = []\n",
    "allrecs = []\n",
    "allf1s = []\n",
    "\n",
    "values = mdl.predict(df)\n",
    "for thresh in tvals:\n",
    "\n",
    "    #create your predictored label using threshold value\n",
    "    pred = values>thresh\n",
    "    \n",
    "    #ravel() is very useful, its unpacking the confusion matrix output\n",
    "    #check out more https://numpy.org/doc/stable/reference/generated/numpy.ravel.html\n",
    "    tn, fp, fn, tp = confusion_matrix(df['win'], pred).ravel() \n",
    "    \n",
    "    #calculate false positive rate, fpr, and also you should store it somewhere :)\n",
    "    fpr = fp/(fp+tn)\n",
    "    #for 4d, also calculate precision, recall and f1 score\n",
    "    precision = tp/(tp+fp+.001)\n",
    "    recall = tp/(tp+fn+.001)\n",
    "    f1 = 2*(precision*recall)/(precision+recall+.001)\n",
    "    allfprs.append(fpr)\n",
    "    allpres.append(precision)\n",
    "    allrecs.append(recall)\n",
    "    allf1s.append(f1)\n",
    "    if(thresh==.5):\n",
    "        fpr5 = fpr\n",
    "        tpr5 = recall\n",
    "    if(thresh==.2):\n",
    "        fpr2 = fpr\n",
    "        tpr2 = recall\n",
    "    if(thresh==.45):\n",
    "        fpr45 = fpr\n",
    "        tpr45 = recall\n",
    "\n",
    "# plt.plot(tvals, allfprs, '.b')\n",
    "# plt.xlabel('threshholds')\n",
    "# plt.ylabel('fpr')\n",
    "    \n",
    "fig, axs = plt.subplots(1,3, figsize =(12,4))\n",
    "axs[0].plot(tvals, allfprs, '')\n",
    "axs[0].set_xlabel('threshold')\n",
    "axs[0].set_ylabel('fpr')\n",
    "axs[0].set_title('fpr vs threshold')\n",
    "\n",
    "axs[1].plot(tvals, allpres, 'b', label='precision')\n",
    "axs[1].plot(tvals, allrecs, 'r', label='recall')\n",
    "axs[1].plot(tvals, allf1s, 'k', label='f1')\n",
    "\n",
    "axs[1].set_xlabel('threshold')\n",
    "axs[1].legend()\n",
    "axs[1].set_title('things vs threshold')\n",
    "\n",
    "\n",
    "axs[2].plot(allfprs,allrecs,'r')\n",
    "axs[2].set_xlabel('fpr')\n",
    "axs[2].set_ylabel('tpr')\n",
    "axs[2].set_title('ROC')\n",
    "axs[2].plot([fpr5], [tpr5], 'gx', label='.5 thresh')\n",
    "axs[2].plot([fpr45], [tpr45], 'yx', label='..45 thresh')\n",
    "axs[2].plot([fpr2], [tpr2], 'bx', label='.2 thresh')\n",
    "axs[2].legend()"
   ]
  },
  {
   "cell_type": "code",
   "execution_count": 11,
   "metadata": {},
   "outputs": [],
   "source": [
    "#some hints for question 5a,b\n",
    "k = 10\n",
    "\n",
    "#initialize two array to store your training and testing error\n",
    "trainErr = np.zeros(k)\n",
    "testErr = np.zeros(k)"
   ]
  },
  {
   "cell_type": "code",
   "execution_count": 23,
   "metadata": {},
   "outputs": [
    {
     "ename": "SyntaxError",
     "evalue": "invalid syntax. Perhaps you forgot a comma? (3039973035.py, line 4)",
     "output_type": "error",
     "traceback": [
      "\u001b[1;36m  Cell \u001b[1;32mIn[23], line 4\u001b[1;36m\u001b[0m\n\u001b[1;33m    kf = KFold(n_splits = k, random_state = 109 shuffle = True)\u001b[0m\n\u001b[1;37m                                            ^\u001b[0m\n\u001b[1;31mSyntaxError\u001b[0m\u001b[1;31m:\u001b[0m invalid syntax. Perhaps you forgot a comma?\n"
     ]
    }
   ],
   "source": [
    "#please leave the random_state variable unchanged, if you're interested in what it does, \n",
    "#you may read more here https://scikit-learn.org/stable/glossary.html#term-random_state\n",
    "#this functio\n",
    "kf = KFold(n_splits = k, random_state = 109, shuffle = True) \n",
    "errordf = pd.DataFrame({'trainerror':[], 'testerror':[]})\n",
    "for trlInd,testInd in kf.split(df):\n",
    "    #each it, select len/k index\n",
    "    #save the rest to train\n",
    "    testdf = df.iloc[testInd,]\n",
    "    traindf = df.iloc[trlInd,]\n",
    "    #fit model\n",
    "    mdl = logit(formula = 'win ~ delavg + delobp + delslg + delruns + delrunsopposing + delwins', data=df).fit(disp=False)\n",
    "    trainPred = mdl.predict(traindf)>.5\n",
    "    testPred = mdl.predict(testdf)>.5\n",
    "    tn, fp, fn, tp = confusion_matrix(traindf['win'], trainPred.astype(int)).ravel() \n",
    "    wrongMature = fn\n",
    "    rightMature = tp\n",
    "    wrongImmature = fp\n",
    "    rightImmature = tn\n",
    "    \n",
    "    trainErr = 1-(rightMature + rightImmature)/(rightMature+ wrongMature+rightImmature+wrongImmature)\n",
    "    \n",
    "    tn, fp, fn, tp = confusion_matrix(testdf['win'], testPred.astype(int)).ravel() \n",
    "    wrongMature = fn\n",
    "    rightMature = tp\n",
    "    wrongImmature = fp\n",
    "    rightImmature = tn\n",
    "    testErr = 1-(rightMature + rightImmature)/(rightMature+ wrongMature+rightImmature+wrongImmature)\n",
    "    curdf = pd.DataFrame({'trainerror':[trainErr], 'testerror':[testErr]})\n",
    "    errordf = pd.concat([errordf,curdf], ignore_index=True)\n",
    "    \n",
    "errordf"
   ]
  },
  {
   "cell_type": "code",
   "execution_count": 24,
   "metadata": {},
   "outputs": [
    {
     "name": "stdout",
     "output_type": "stream",
     "text": [
      "mean training error is  0.4237648221343874\n",
      "training sem is  0.0004417628845830072\n",
      "mean test error is  0.4237648221343873\n",
      "test sem is  0.003975865961247052 \n",
      "\n"
     ]
    }
   ],
   "source": [
    "print('mean training error is ', errordf['trainerror'].mean())\n",
    "print('training sem is ', errordf['trainerror'].sem())\n",
    "print('mean test error is ', errordf['testerror'].mean())\n",
    "print('test sem is ', errordf['testerror'].sem(),'\\n')"
   ]
  },
  {
   "cell_type": "code",
   "execution_count": null,
   "metadata": {},
   "outputs": [],
   "source": []
  }
 ],
 "metadata": {
  "kernelspec": {
   "display_name": "baseball",
   "language": "python",
   "name": "python3"
  },
  "language_info": {
   "codemirror_mode": {
    "name": "ipython",
    "version": 3
   },
   "file_extension": ".py",
   "mimetype": "text/x-python",
   "name": "python",
   "nbconvert_exporter": "python",
   "pygments_lexer": "ipython3",
   "version": "3.11.3"
  },
  "orig_nbformat": 4
 },
 "nbformat": 4,
 "nbformat_minor": 2
}
